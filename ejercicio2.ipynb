{
  "cells": [
    {
      "cell_type": "code",
      "execution_count": 29,
      "metadata": {
        "id": "nAwIhxLXz8K3"
      },
      "outputs": [],
      "source": [
        "from pyspark.sql.functions import concat, lit, col\n",
        "from pyspark.sql import SparkSession"
      ]
    },
    {
      "cell_type": "code",
      "execution_count": 30,
      "metadata": {
        "id": "VvlhfDGyAMkq"
      },
      "outputs": [],
      "source": [
        "spark = SparkSession.builder.master(\"local\").appName(\"flights\").getOrCreate()"
      ]
    },
    {
      "cell_type": "code",
      "execution_count": 31,
      "metadata": {
        "colab": {
          "base_uri": "https://localhost:8080/"
        },
        "id": "SkMo1st90RPH",
        "outputId": "d33296e1-913f-4629-97f6-83faadd303e9"
      },
      "outputs": [
        {
          "name": "stdout",
          "output_type": "stream",
          "text": [
            "root\n",
            " |-- YEAR: string (nullable = true)\n",
            " |-- MONTH: string (nullable = true)\n",
            " |-- DAY: string (nullable = true)\n",
            " |-- DAY_OF_WEEK: string (nullable = true)\n",
            " |-- AIRLINE: string (nullable = true)\n",
            " |-- FLIGHT_NUMBER: string (nullable = true)\n",
            " |-- TAIL_NUMBER: string (nullable = true)\n",
            " |-- ORIGIN_AIRPORT: string (nullable = true)\n",
            " |-- DESTINATION_AIRPORT: string (nullable = true)\n",
            " |-- SCHEDULED_DEPARTURE: string (nullable = true)\n",
            " |-- DEPARTURE_TIME: string (nullable = true)\n",
            " |-- DEPARTURE_DELAY: string (nullable = true)\n",
            " |-- TAXI_OUT: string (nullable = true)\n",
            " |-- WHEELS_OFF: string (nullable = true)\n",
            " |-- SCHEDULED_TIME: string (nullable = true)\n",
            " |-- ELAPSED_TIME: string (nullable = true)\n",
            " |-- AIR_TIME: string (nullable = true)\n",
            " |-- DISTANCE: string (nullable = true)\n",
            " |-- WHEELS_ON: string (nullable = true)\n",
            " |-- TAXI_IN: string (nullable = true)\n",
            " |-- SCHEDULED_ARRIVAL: string (nullable = true)\n",
            " |-- ARRIVAL_TIME: string (nullable = true)\n",
            " |-- ARRIVAL_DELAY: string (nullable = true)\n",
            " |-- DIVERTED: string (nullable = true)\n",
            " |-- CANCELLED: string (nullable = true)\n",
            " |-- CANCELLATION_REASON: string (nullable = true)\n",
            " |-- AIR_SYSTEM_DELAY: string (nullable = true)\n",
            " |-- SECURITY_DELAY: string (nullable = true)\n",
            " |-- AIRLINE_DELAY: string (nullable = true)\n",
            " |-- LATE_AIRCRAFT_DELAY: string (nullable = true)\n",
            " |-- WEATHER_DELAY: string (nullable = true)\n",
            "\n"
          ]
        }
      ],
      "source": [
        "df = spark.read.option(\"header\",True).csv(\"./flights.csv\")\n",
        "df.printSchema()"
      ]
    },
    {
      "cell_type": "code",
      "execution_count": 33,
      "metadata": {
        "id": "sOMn2xzc1ncd"
      },
      "outputs": [],
      "source": [
        "df = df.filter(\"ARRIVAL_DELAY > 0\")"
      ]
    },
    {
      "cell_type": "code",
      "execution_count": 34,
      "metadata": {
        "id": "Zq4Lr6FB2rc1"
      },
      "outputs": [],
      "source": [
        "df = df.drop(\"YEAR\",\"MONTH\",\"DAY\",\"DAY_OF_WEEK\",\"AIRLINE\",\"FLIGHT_NUMBER\",\"TAIL_NUMBER\",\"SCHEDULED_DEPARTURE\",\"DEPARTURE_TIME\",\"DEPARTURE_DELAY\",\"TAXI_OUT\",\"WHEELS_OFF\",\"SCHEDULED_TIME\",\"ELAPSED_TIME\",\"AIR_TIME\",\"DISTANCE\",\"WHEELS_ON\",\"TAXI_IN\",\"SCHEDULED_ARRIVAL\",\"ARRIVAL_TIME\",\"DIVERTED\",\"CANCELLED\",\"CANCELLATION_REASON\",\"AIR_SYSTEM_DELAY\",\"SECURITY_DELAY\",\"AIRLINE_DELAY\",\"LATE_AIRCRAFT_DELAY\",\"WEATHER_DELAY\")"
      ]
    },
    {
      "cell_type": "code",
      "execution_count": 35,
      "metadata": {
        "id": "smsFwFaj4HrJ"
      },
      "outputs": [],
      "source": [
        "df = df.withColumn('Ruta', concat(col('ORIGIN_AIRPORT'), col('DESTINATION_AIRPORT')))"
      ]
    },
    {
      "cell_type": "code",
      "execution_count": 36,
      "metadata": {
        "colab": {
          "base_uri": "https://localhost:8080/"
        },
        "id": "ADpFZq4g4RM2",
        "outputId": "03543a60-aa35-4af4-9c16-bf929ca37ca9"
      },
      "outputs": [
        {
          "name": "stdout",
          "output_type": "stream",
          "text": [
            "+--------------+-------------------+-------------+------+\n",
            "|ORIGIN_AIRPORT|DESTINATION_AIRPORT|ARRIVAL_DELAY|  Ruta|\n",
            "+--------------+-------------------+-------------+------+\n",
            "|           SFO|                CLT|            5|SFOCLT|\n",
            "|           SFO|                MSP|            8|SFOMSP|\n",
            "|           SEA|                MSP|            8|SEAMSP|\n",
            "|           LAS|                MCI|            6|LASMCI|\n",
            "|           SEA|                MIA|            1|SEAMIA|\n",
            "|           MSP|                FLL|           25|MSPFLL|\n",
            "|           DEN|                MIA|            2|DENMIA|\n",
            "|           PHX|                ORD|           43|PHXORD|\n",
            "|           SLC|                ATL|           10|SLCATL|\n",
            "|           LAS|                HNL|           15|LASHNL|\n",
            "|           SJU|                JFK|           11|SJUJFK|\n",
            "|           PHX|                DFW|            1|PHXDFW|\n",
            "|           SJU|                EWR|            4|SJUEWR|\n",
            "|           BQN|                EWR|            6|BQNEWR|\n",
            "|           BQN|                MCO|           20|BQNMCO|\n",
            "|           SJU|                MCO|           85|SJUMCO|\n",
            "|           SJU|                BDL|           89|SJUBDL|\n",
            "|           ORD|                PHX|            3|ORDPHX|\n",
            "|           ONT|                SFO|            9|ONTSFO|\n",
            "|           HNL|                KOA|            5|HNLKOA|\n",
            "+--------------+-------------------+-------------+------+\n",
            "only showing top 20 rows\n",
            "\n"
          ]
        }
      ],
      "source": [
        "df.show()"
      ]
    },
    {
      "cell_type": "markdown",
      "metadata": {
        "id": "k_FOfINi69RF"
      },
      "source": [
        "Cantidad de Vuelos con retraso en el Aeropuerto de Atltanta"
      ]
    },
    {
      "cell_type": "code",
      "execution_count": 45,
      "metadata": {
        "colab": {
          "base_uri": "https://localhost:8080/"
        },
        "id": "cDQsaWuB4zU_",
        "outputId": "9ef81d69-0cbc-4aaa-c872-dc42523721ad"
      },
      "outputs": [
        {
          "data": {
            "text/plain": [
              "105603"
            ]
          },
          "execution_count": 45,
          "metadata": {},
          "output_type": "execute_result"
        }
      ],
      "source": [
        "df.filter(df.DESTINATION_AIRPORT == \"ATL\").count()"
      ]
    },
    {
      "cell_type": "markdown",
      "metadata": {
        "id": "cC3Ouz5p7Cw9"
      },
      "source": [
        "Las 10 rutas de vuelo más populares"
      ]
    },
    {
      "cell_type": "code",
      "execution_count": 48,
      "metadata": {
        "colab": {
          "base_uri": "https://localhost:8080/"
        },
        "id": "WPLCBAD97Grn",
        "outputId": "bb43192a-bd90-4d02-b82e-51f9af0808f7"
      },
      "outputs": [
        {
          "name": "stdout",
          "output_type": "stream",
          "text": [
            "+------+--------------+-------------------+-----+\n",
            "|  Ruta|ORIGIN_AIRPORT|DESTINATION_AIRPORT|count|\n",
            "+------+--------------+-------------------+-----+\n",
            "|SFOLAX|           SFO|                LAX| 6431|\n",
            "|LAXSFO|           LAX|                SFO| 5845|\n",
            "|LASLAX|           LAS|                LAX| 4974|\n",
            "|LAXLAS|           LAX|                LAS| 4195|\n",
            "|LAXJFK|           LAX|                JFK| 3972|\n",
            "|JFKLAX|           JFK|                LAX| 3857|\n",
            "|OGGHNL|           OGG|                HNL| 3765|\n",
            "|ORDLGA|           ORD|                LGA| 3640|\n",
            "|LAXPHX|           LAX|                PHX| 3567|\n",
            "|ORDLAX|           ORD|                LAX| 3515|\n",
            "+------+--------------+-------------------+-----+\n",
            "\n"
          ]
        }
      ],
      "source": [
        "df.groupBy('Ruta', 'ORIGIN_AIRPORT', 'DESTINATION_AIRPORT').count().orderBy(col(\"Count\").desc()).limit(10).show()"
      ]
    }
  ],
  "metadata": {
    "colab": {
      "provenance": []
    },
    "kernelspec": {
      "display_name": "Python 3",
      "name": "python3"
    },
    "language_info": {
      "name": "python",
      "version": "3.9.15"
    }
  },
  "nbformat": 4,
  "nbformat_minor": 0
}
