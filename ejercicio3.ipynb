{
  "cells": [
    {
      "cell_type": "code",
      "execution_count": 34,
      "metadata": {
        "id": "xfMTePdjAKkt"
      },
      "outputs": [],
      "source": [
        "from pyspark.sql import SparkSession\n",
        "from pyspark.sql.functions import col\n",
        "import pandas as pd"
      ]
    },
    {
      "cell_type": "code",
      "execution_count": 35,
      "metadata": {
        "id": "VvlhfDGyAMkq"
      },
      "outputs": [],
      "source": [
        "spark = SparkSession.builder.master(\"local\").appName(\"PandasToSpark\").getOrCreate()"
      ]
    },
    {
      "cell_type": "code",
      "execution_count": 36,
      "metadata": {
        "id": "mCD04dFe_68L"
      },
      "outputs": [],
      "source": [
        "columns = ['PeliculaID', 'Critico', 'Puntuacion']\n",
        "data = [(1, 'Critico1', 4.5), (2, 'Critico2', 3.8), (3, 'Critico1', 4.2), (4, 'Critico3', 4.7)]\n",
        "criticas = spark.createDataFrame(data=data, schema=columns)"
      ]
    },
    {
      "cell_type": "code",
      "execution_count": 37,
      "metadata": {
        "id": "ZfeJMwQYAQQO"
      },
      "outputs": [],
      "source": [
        "data = [[1, 'Pelicula1', '2020'], [2, 'Pelicula2', '2019'], [3, 'Pelicula3', '2020'], [4, 'Pelicula4', '2018']]\n",
        "datos_peliculas = pd.DataFrame(data, columns=['ID', 'Titulo', 'Año'])"
      ]
    },
    {
      "cell_type": "code",
      "execution_count": 38,
      "metadata": {
        "id": "QTcM5TxKASEi"
      },
      "outputs": [],
      "source": [
        "datos_peliculas_spark = spark.createDataFrame(datos_peliculas)"
      ]
    },
    {
      "cell_type": "code",
      "execution_count": 39,
      "metadata": {
        "colab": {
          "base_uri": "https://localhost:8080/"
        },
        "id": "iHmOOrv3AU1N",
        "outputId": "0db7fbe1-0220-48d1-88b5-031e83df9a97"
      },
      "outputs": [
        {
          "name": "stdout",
          "output_type": "stream",
          "text": [
            "+----------+--------+----------+---+---------+----+\n",
            "|PeliculaID| Critico|Puntuacion| ID|   Titulo| Año|\n",
            "+----------+--------+----------+---+---------+----+\n",
            "|         1|Critico1|       4.5|  1|Pelicula1|2020|\n",
            "|         2|Critico2|       3.8|  2|Pelicula2|2019|\n",
            "|         3|Critico1|       4.2|  3|Pelicula3|2020|\n",
            "|         4|Critico3|       4.7|  4|Pelicula4|2018|\n",
            "+----------+--------+----------+---+---------+----+\n",
            "\n"
          ]
        }
      ],
      "source": [
        "resultado = criticas.join(datos_peliculas_spark, criticas['PeliculaID'] == datos_peliculas_spark['ID'], 'inner')\n",
        "\n",
        "resultado.show()"
      ]
    }
  ],
  "metadata": {
    "colab": {
      "provenance": []
    },
    "kernelspec": {
      "display_name": "Python 3",
      "name": "python3"
    },
    "language_info": {
      "name": "python",
      "version": "3.9.15"
    }
  },
  "nbformat": 4,
  "nbformat_minor": 0
}
